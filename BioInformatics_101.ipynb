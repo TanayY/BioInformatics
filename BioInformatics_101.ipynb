{
  "nbformat": 4,
  "nbformat_minor": 0,
  "metadata": {
    "colab": {
      "name": "BioInformatics 101",
      "provenance": [],
      "collapsed_sections": [],
      "authorship_tag": "ABX9TyOHaSjReX9fiDBg7StdrmL4",
      "include_colab_link": true
    },
    "kernelspec": {
      "name": "python3",
      "display_name": "Python 3"
    }
  },
  "cells": [
    {
      "cell_type": "markdown",
      "metadata": {
        "id": "view-in-github",
        "colab_type": "text"
      },
      "source": [
        "<a href=\"https://colab.research.google.com/github/TanayY/BioInformatics/blob/master/BioInformatics_101.ipynb\" target=\"_parent\"><img src=\"https://colab.research.google.com/assets/colab-badge.svg\" alt=\"Open In Colab\"/></a>"
      ]
    },
    {
      "cell_type": "markdown",
      "metadata": {
        "id": "zAVx6CHYLLFT",
        "colab_type": "text"
      },
      "source": [
        "![alt text](https://drive.google.com/uc?export=view&id=13NPx1bTBIHIGKRjTRqROsTe-qqDR_8R9)\n",
        "\n",
        "\n",
        "\n",
        "\n",
        "\n",
        "\n",
        "\n",
        "\n",
        "\n"
      ]
    },
    {
      "cell_type": "markdown",
      "metadata": {
        "id": "lZWDIfq-Kj7m",
        "colab_type": "text"
      },
      "source": [
        "\n",
        "# **BIOINFORMATICS 101**\n",
        "\n",
        "Welcome to the BioInformatics Notebook.\n",
        "\n",
        "This is a place where I will try to share my knowledge of BioInformatics.\n",
        "\n",
        "\n",
        "Let's start with a basic understanding of the Genome.\n",
        "\n",
        "<br>\n",
        "\n",
        "\n",
        "### What is a Genome?\n",
        "- A Genome is the Genetic Material</i> of an Organism.\n",
        "\n",
        "<br>\n",
        "\n",
        "\n",
        "### What is Genome Replication ?\n",
        "- It is an important task carried out in the cell, which divides the cell into two daughter cells.\n",
        "\n",
        "- This is important because before a cell divides, it must replicate it's Genome, so both of it's daughter cells inherit it's copy.\n",
        "\n",
        "<br>\n",
        "\n",
        "### Conjectured Theory of Replication :\n",
        "- In 1953, Molecular Biologists James Watson and Francis Crick published an academic paper proposing the double helix structure of the DNA molecule.\n",
        "- They conjectured that two strands of parent DNA Molecule unwind during replication.\n",
        "- Then each parent strand acts as a template for synthesis of a new strand.\n",
        "- Replication therefore begins with a pair of complementary strands of DNA and ends up with two pairs of Complementary Strands.\n",
        "<p align=\"center\">\n",
        "<img src=\"https://drive.google.com/uc?export=view&id=1p4MECxiD0lbpygAm23xzXYbDStFhNEFU\" alt=\"NC\" width= 350px/></p>\n",
        "\n",
        "- But things turned out to be more complicated than this.\n",
        "\n",
        "<br>\n",
        "\n",
        "### Replication :\n",
        "- It begins in a Genomic Region called the Replication Origin.\n",
        "- This process is carried out by molecular copy machines called <b>DNA Polymerases</b>.\n",
        "- The Replication Origin is also called <b>ori</b>.\n",
        "\n",
        "<p align=\"center\">\n",
        "<img src=\"https://i.pinimg.com/originals/fa/a5/87/faa587f455a50c122abe58523b9856d0.gif\" alt=\"Drawing\" width= 300px/></p>\n",
        "\n",
        "- Locating the <b>ori</b> is an important task to understand how Cells Replicate and for other BioMedical Purposes.\n",
        "\n",
        "- One example is Gene Therapy.\n",
        "\n",
        "<br>\n",
        "\n",
        "#### Gene Therapy :\n",
        "- Genetically engineered mini-genomes are made called Viral Vectors.\n",
        "- These work similar to real viruses.\n",
        "- The patient is infected with this Viral Vector (which contains an Artificial Gene), which then encodes a theraputic gene to cure the patient of the disease.\n",
        "- To ensure that this Viral Vector Replicates we need to know it's ori.\n",
        "\n",
        "<b>Can we formulate a computational problem given that a genome has a single ori and is represented as a DNA String of Nucleotides {A,C,G,T}?</b>\n",
        "\n",
        "<br>\n",
        "\n",
        "<b>Problem : Finding Origin of Replication </b>\n",
        "\n",
        "    - Input : A DNA String Genome\n",
        "    - Output : The location of ori in Genome"
      ]
    },
    {
      "cell_type": "markdown",
      "metadata": {
        "id": "WHsbnMO00nlw",
        "colab_type": "text"
      },
      "source": [
        "- In most Bacteria, a special genomic region, encodes the Ori and is about a few hundred Neucleotides long.\n",
        "\n",
        "- We will use the Genome of Vibrio Cholerae, whose ori is already being found and see what it tells about this special region.\n",
        "\n",
        "- There is a Hidden Message in the Ori Region, which tells the cell to begin Replication , called <b>DNAA</b>.\n",
        "\n",
        "- It initiates replication and binds to a short segment within ori (known as <b>DNAA Box</b>).\n",
        "\n",
        "<p align = \"center\"><b> Can we find this Hidden Message without knowing anything about it ?</b></p>\n",
        "\n",
        "<br> \n",
        "\n",
        "<b>Problem : Hidden Message Problem</b>\n",
        "\n",
        "    - Input : A String text (representing Replication of Genome)\n",
        "    - Otutput : A Hidden Message in the text.\n",
        "\n",
        "- This does not give us an idea of how the hidden message looks, so we can't solve this problem.\n",
        "\n",
        "- So we will try looking for Frequent Words in the ori, because for several Biological Processes, certain Nucleotide Strings appear Surprisingly often in small regions of the Genome.\n",
        "\n",
        "- This is because certain proteins onlt bind to DNA is a specific string of nucleotides is present. More such strings means high chance of Binding.\n",
        "<p align = \"center\">\n",
        "<img  src=\"https://drive.google.com/uc?export=view&id=1Y5AsFUbdDv5kdh3Nt9SrbFkJ1Fi0FNRh\" alt=\"E1\" width= 350px/></p>\n",
        "\n",
        "- Let's formulate this problem so we can solve it Computationally.\n",
        "\n",
        "1) A string of length k is called a <b>kmer</b>.\n",
        "\n",
        "2) A function <b>count(text,pattern)</b> will count the occurences of <b>pattern</b> in <b>text</b>.\n",
        "\n",
        "<p align = \"center\">\n",
        "<img  src=\"https://drive.google.com/uc?export=view&id=11njuM896LLzUWnZnAgo1C4mO2bkRW66w\" alt=\"E1\" width= 400px/></p>\n",
        "\n",
        "3) <b>Text</b> is the input text.\n",
        "\n",
        "4) <b>|Text|</b> is the number of symbols in Text.\n",
        "\n",
        "5) A function <b>get_text(i,k)</b>, where :\n",
        "- i = starting position\n",
        "- k = length of k-mer\n",
        "\n",
        "<p align = \"center\">\n",
        "<img  src=\"https://drive.google.com/uc?export=view&id=1_jzXQEbIrEkXEWPu8-g2UWOWfoSdBORM\" alt=\"E3\" width= 200px/></p>\n",
        "\n",
        "\n",
        "\n"
      ]
    },
    {
      "cell_type": "markdown",
      "metadata": {
        "id": "DuR8KnNGSFzn",
        "colab_type": "text"
      },
      "source": [
        "<b>Problem : Pattern Count</b>\n",
        "\n",
        "    - Input : Two strings \"text\" and \"pattern\"\n",
        "    - Output : Occurences of \"pattern\" in \"text\""
      ]
    },
    {
      "cell_type": "code",
      "metadata": {
        "id": "PnziNdVTSK7e",
        "colab_type": "code",
        "colab": {}
      },
      "source": [
        "# We Define a function pattern count which is explained as \"count()\" above\n",
        "# The function get_text can be defined using a single line in Python.\n",
        "# It has been marked in the code below\n",
        "def pattern_count(text,pattern):\n",
        "    count  = 0;\n",
        "    l = len(text) - len(pattern)+1;\n",
        "    for i in range(0,l):\n",
        "        s = text[i:i+len(pattern)] # <-- Implementation of get_text(i,k)\n",
        "        if s == pattern:\n",
        "            count += 1\n",
        "    return count"
      ],
      "execution_count": 4,
      "outputs": []
    },
    {
      "cell_type": "code",
      "metadata": {
        "id": "TT-LAARQUH_p",
        "colab_type": "code",
        "colab": {
          "base_uri": "https://localhost:8080/",
          "height": 35
        },
        "outputId": "1c1d5752-4238-4562-c282-1563dbedf553"
      },
      "source": [
        "#We call the function above and send it the inputs \"text\" and \"pattern\"\n",
        "#Feel free to try your own inputs\n",
        "\n",
        "pattern_count(\"CGATATA\", \"ATA\")"
      ],
      "execution_count": 6,
      "outputs": [
        {
          "output_type": "execute_result",
          "data": {
            "text/plain": [
              "2"
            ]
          },
          "metadata": {
            "tags": []
          },
          "execution_count": 6
        }
      ]
    },
    {
      "cell_type": "markdown",
      "metadata": {
        "id": "wOFoZciXYHn0",
        "colab_type": "text"
      },
      "source": [
        "<b>Problem : Frequent Words</b>\n",
        "\n",
        "    - Input : A string \"text\" and an integer \"k\"\n",
        "    - Output : All most frequent \"kmers\" in text"
      ]
    },
    {
      "cell_type": "code",
      "metadata": {
        "id": "YS0xAf88YaNv",
        "colab_type": "code",
        "colab": {}
      },
      "source": [
        "def frequent_words(text,k):\n",
        "    frequent_patterns = set([])\n",
        "    count = []\n",
        "    l = len(text) - k + 1\n",
        "    for i in range(0,l):\n",
        "        pattern = text[i:i+k]\n",
        "        count.append(pattern_count(text,pattern))\n",
        "    maxcount = max(count)\n",
        "    for i in range(0,len(text)-k):\n",
        "        if count[i] == maxcount:\n",
        "            frequent_patterns.add(text[i:i+k])\n",
        "    return frequent_patterns"
      ],
      "execution_count": 12,
      "outputs": []
    },
    {
      "cell_type": "code",
      "metadata": {
        "id": "I0RIhlzbbnKq",
        "colab_type": "code",
        "colab": {
          "base_uri": "https://localhost:8080/",
          "height": 35
        },
        "outputId": "7d0c6b14-cd70-48db-fae8-1a4c2bae0a46"
      },
      "source": [
        "frequent_words(\"ACAACTATGCATACTATCGGGAACTATCCT\",5)\n"
      ],
      "execution_count": 15,
      "outputs": [
        {
          "output_type": "execute_result",
          "data": {
            "text/plain": [
              "{'ACTAT'}"
            ]
          },
          "metadata": {
            "tags": []
          },
          "execution_count": 15
        }
      ]
    },
    {
      "cell_type": "code",
      "metadata": {
        "id": "dcS4GZ9IeIsa",
        "colab_type": "code",
        "colab": {
          "base_uri": "https://localhost:8080/",
          "height": 35
        },
        "outputId": "a562433a-8981-4b3d-ed1b-acc4ecb0641c"
      },
      "source": [
        "frequent_words(\"ACAACTATGCATACTATCGGGAACTATCCT\",3)"
      ],
      "execution_count": 16,
      "outputs": [
        {
          "output_type": "execute_result",
          "data": {
            "text/plain": [
              "{'ACT', 'CTA', 'TAT'}"
            ]
          },
          "metadata": {
            "tags": []
          },
          "execution_count": 16
        }
      ]
    },
    {
      "cell_type": "code",
      "metadata": {
        "id": "XlU2vjQ4wnP8",
        "colab_type": "code",
        "colab": {}
      },
      "source": [
        ""
      ],
      "execution_count": null,
      "outputs": []
    }
  ]
}