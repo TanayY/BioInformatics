{
  "nbformat": 4,
  "nbformat_minor": 0,
  "metadata": {
    "colab": {
      "name": "BioInformatics 101",
      "provenance": [],
      "collapsed_sections": [],
      "authorship_tag": "ABX9TyN2hFfnSwhTr5CSFoxCO9xY",
      "include_colab_link": true
    },
    "kernelspec": {
      "name": "python3",
      "display_name": "Python 3"
    }
  },
  "cells": [
    {
      "cell_type": "markdown",
      "metadata": {
        "id": "view-in-github",
        "colab_type": "text"
      },
      "source": [
        "<a href=\"https://colab.research.google.com/github/TanayY/BioInformatics/blob/master/BioInformatics_101.ipynb\" target=\"_parent\"><img src=\"https://colab.research.google.com/assets/colab-badge.svg\" alt=\"Open In Colab\"/></a>"
      ]
    },
    {
      "cell_type": "markdown",
      "metadata": {
        "id": "zAVx6CHYLLFT",
        "colab_type": "text"
      },
      "source": [
        "![alt text](https://drive.google.com/uc?export=view&id=13NPx1bTBIHIGKRjTRqROsTe-qqDR_8R9)\n",
        "\n",
        "\n",
        "\n",
        "\n",
        "\n",
        "\n",
        "\n",
        "\n",
        "\n"
      ]
    },
    {
      "cell_type": "markdown",
      "metadata": {
        "id": "lZWDIfq-Kj7m",
        "colab_type": "text"
      },
      "source": [
        "\n",
        "# **BIOINFORMATICS 101**\n",
        "\n",
        "Welcome to the BioInformatics Notebook.\n",
        "\n",
        "This is a place where I will try to share my knowledge of BioInformatics.\n",
        "\n",
        "\n",
        "Let's start with a basic understanding of the Genome.\n",
        "\n",
        "<br>\n",
        "\n",
        "\n",
        "### What is a Genome?\n",
        "- A Genome is the Genetic Material</i> of an Organism.\n",
        "\n",
        "<br>\n",
        "\n",
        "\n",
        "### What is Genome Replication ?\n",
        "- It is an important task carried out in the cell, which divides the cell into two daughter cells.\n",
        "\n",
        "- This is important because before a cell divides, it must replicate it's Genome, so both of it's daughter cells inherit it's copy.\n",
        "\n",
        "<br>\n",
        "\n",
        "### Conjectured Theory of Replication :\n",
        "- In 1953, Molecular Biologists James Watson and Francis Crick published an academic paper proposing the double helix structure of the DNA molecule.\n",
        "- They conjectured that two strands of parent DNA Molecule unwind during replication.\n",
        "- Then each parent strand acts as a template for synthesis of a new strand.\n",
        "- Replication therefore begins with a pair of complementary strands of DNA and ends up with two pairs of Complementary Strands.\n",
        "<p align=\"center\">\n",
        "<img src=\"https://drive.google.com/uc?export=view&id=1p4MECxiD0lbpygAm23xzXYbDStFhNEFU\" alt=\"NC\" width= 350px/></p>\n",
        "\n",
        "- But things turned out to be more complicated than this.\n",
        "\n",
        "<br>\n",
        "\n",
        "### Replication :\n",
        "- It begins in a Genomic Region called the Replication Origin.\n",
        "- This process is carried out by molecular copy machines called <b>DNA Polymerases</b>.\n",
        "- The Replication Origin is also called <b>ori</b>.\n",
        "\n",
        "<p align=\"center\">\n",
        "<img src=\"https://i.pinimg.com/originals/fa/a5/87/faa587f455a50c122abe58523b9856d0.gif\" alt=\"Drawing\" width= 300px/></p>\n",
        "\n",
        "- Locating the <b>ori</b> is an important task to understand how Cells Replicate and for other BioMedical Purposes.\n",
        "\n",
        "- One example is Gene Therapy.\n",
        "\n",
        "<br>\n",
        "\n",
        "#### Gene Therapy :\n",
        "- Genetically engineered mini-genomes are made called Viral Vectors.\n",
        "- These work similar to real viruses.\n",
        "- The patient is infected with this Viral Vector (which contains an Artificial Gene), which then encodes a theraputic gene to cure the patient of the disease.\n",
        "- To ensure that this Viral Vector Replicates we need to know it's ori.\n",
        "\n",
        "<b>Can we formulate a computational problem given that a genome has a single ori and is represented as a DNA String of Nucleotides {A,C,G,T}?</b>\n",
        "\n",
        "<br>\n",
        "\n",
        "<b>Problem : Finding Origin of Replication </b>\n",
        "\n",
        "    - Input : A DNA String Genome\n",
        "    - Output : The location of ori in Genome"
      ]
    },
    {
      "cell_type": "markdown",
      "metadata": {
        "id": "WHsbnMO00nlw",
        "colab_type": "text"
      },
      "source": [
        "- In most Bacteria, a special genomic region, encodes the Ori and is about a few hundred Neucleotides long.\n",
        "\n",
        "- We will use the Genome of Vibrio Cholerae, whose ori is already being found and see what it tells about this special region.\n",
        "\n",
        "- There is a Hidden Message in the Ori Region, which tells the cell to begin Replication , called <b>DNAA</b>.\n",
        "\n",
        "- It initiates replication and binds to a short segment within ori (known as <b>DNAA Box</b>).\n",
        "\n",
        "<p align = \"center\"><b> Can we find this Hidden Message without knowing anything about it ?</b></p>\n",
        "\n",
        "<br> \n",
        "\n",
        "<b>Problem : Hidden Message Problem</b>\n",
        "\n",
        "    - Input : A String text (representing Replication of Genome)\n",
        "    - Otutput : A Hidden Message in the text.\n",
        "\n",
        "- This does not give us an idea of how the hidden message looks, so we can't solve this problem.\n",
        "\n",
        "- So we will try looking for Frequent Words in the ori, because for several Biological Processes, certain Nucleotide Strings appear Surprisingly often in small regions of the Genome.\n",
        "\n",
        "- This is because certain proteins onlt bind to DNA is a specific string of nucleotides is present. More such strings means high chance of Binding.\n",
        "<p align = \"center\">\n",
        "<img  src=\"https://drive.google.com/uc?export=view&id=1Y5AsFUbdDv5kdh3Nt9SrbFkJ1Fi0FNRh\" alt=\"E1\" width= 350px/></p>\n",
        "\n",
        "- Let's formulate this problem so we can solve it Computationally.\n",
        "\n",
        "1) A string of length k is called a <b>kmer</b>.\n",
        "\n",
        "2) A function <b>count(text,pattern)</b> will count the occurences of <b>pattern</b> in <b>text</b>.\n",
        "\n",
        "<p align = \"center\">\n",
        "<img  src=\"https://drive.google.com/uc?export=view&id=11njuM896LLzUWnZnAgo1C4mO2bkRW66w\" alt=\"E1\" width= 400px/></p>\n",
        "\n",
        "3) <b>Text</b> is the input text.\n",
        "\n",
        "4) <b>|Text|</b> is the number of symbols in Text.\n",
        "\n",
        "5) A function <b>get_text(i,k)</b>, where :\n",
        "- i = starting position\n",
        "- k = length of k-mer\n",
        "\n",
        "<p align = \"center\">\n",
        "<img  src=\"https://drive.google.com/uc?export=view&id=1_jzXQEbIrEkXEWPu8-g2UWOWfoSdBORM\" alt=\"E3\" width= 200px/></p>\n",
        "\n",
        "\n",
        "\n"
      ]
    },
    {
      "cell_type": "markdown",
      "metadata": {
        "id": "DuR8KnNGSFzn",
        "colab_type": "text"
      },
      "source": [
        "<b>Problem : Pattern Count</b>\n",
        "\n",
        "    - Input : Two strings \"text\" and \"pattern\"\n",
        "    - Output : Occurences of \"pattern\" in \"text\""
      ]
    },
    {
      "cell_type": "code",
      "metadata": {
        "id": "PnziNdVTSK7e",
        "colab_type": "code",
        "colab": {}
      },
      "source": [
        "# We Define a function pattern count which is explained as \"count()\" above\n",
        "# The function get_text can be defined using a single line in Python.\n",
        "# It has been marked in the code below\n",
        "def pattern_count(text,pattern):\n",
        "    count  = 0;\n",
        "    l = len(text) - len(pattern)+1;\n",
        "    for i in range(0,l):\n",
        "        s = text[i:i+len(pattern)] # <-- Implementation of get_text(i,k)\n",
        "        if s == pattern:\n",
        "            count += 1\n",
        "    return count"
      ],
      "execution_count": null,
      "outputs": []
    },
    {
      "cell_type": "code",
      "metadata": {
        "id": "TT-LAARQUH_p",
        "colab_type": "code",
        "colab": {
          "base_uri": "https://localhost:8080/",
          "height": 35
        },
        "outputId": "1c1d5752-4238-4562-c282-1563dbedf553"
      },
      "source": [
        "#We call the function above and send it the inputs \"text\" and \"pattern\"\n",
        "#Feel free to try your own inputs\n",
        "\n",
        "pattern_count(\"CGATATA\", \"ATA\")"
      ],
      "execution_count": null,
      "outputs": [
        {
          "output_type": "execute_result",
          "data": {
            "text/plain": [
              "2"
            ]
          },
          "metadata": {
            "tags": []
          },
          "execution_count": 6
        }
      ]
    },
    {
      "cell_type": "markdown",
      "metadata": {
        "id": "wOFoZciXYHn0",
        "colab_type": "text"
      },
      "source": [
        "<b>Problem : Frequent Words</b>\n",
        "\n",
        "    - Input : A string \"text\" and an integer \"k\"\n",
        "    - Output : All most frequent \"kmers\" in text"
      ]
    },
    {
      "cell_type": "code",
      "metadata": {
        "id": "YS0xAf88YaNv",
        "colab_type": "code",
        "colab": {}
      },
      "source": [
        "#We define a function frequent_words(), which takes an input string \"text\" and integer \"k\"\n",
        "\n",
        "def frequent_words(text,k):\n",
        "    frequent_patterns = set([]) #This is a set which will store all frequent kmers\n",
        "    count = [] #This is used to store the count of every kmer in the input text\n",
        "    l = len(text) - k + 1 # We traverse only till the (l-k), i.e. just before the last k-mer so we don't go beyond that\n",
        "    for i in range(0,l):\n",
        "        pattern = text[i:i+k] #This is the pattern from i to i+k\n",
        "        count.append(pattern_count(text,pattern)) #We use the pattern_count function to get the frequency of the\n",
        "        #pattern in the complete text\n",
        "    maxcount = max(count) # Stores the maximum count\n",
        "    for i in range(0,len(text)-k):\n",
        "        if count[i] == maxcount:\n",
        "            frequent_patterns.add(text[i:i+k]) # We append all the strings with frequency maxcount\n",
        "    return frequent_patterns"
      ],
      "execution_count": null,
      "outputs": []
    },
    {
      "cell_type": "code",
      "metadata": {
        "id": "I0RIhlzbbnKq",
        "colab_type": "code",
        "colab": {
          "base_uri": "https://localhost:8080/",
          "height": 35
        },
        "outputId": "8709b891-2b91-43fe-c241-e2e57feb1ab5"
      },
      "source": [
        "# This will give a complete list of frequent kmers with k = 5\n",
        "frequent_words(\"ACAACTATGCATACTATCGGGAACTATCCT\",5)"
      ],
      "execution_count": null,
      "outputs": [
        {
          "output_type": "execute_result",
          "data": {
            "text/plain": [
              "{'ACTAT'}"
            ]
          },
          "metadata": {
            "tags": []
          },
          "execution_count": 18
        }
      ]
    },
    {
      "cell_type": "code",
      "metadata": {
        "id": "dcS4GZ9IeIsa",
        "colab_type": "code",
        "colab": {
          "base_uri": "https://localhost:8080/",
          "height": 35
        },
        "outputId": "1a3d73f4-aede-4bef-93a0-89bd54e56afb"
      },
      "source": [
        "# This will give a complete list of frequent kmers with k = 3\n",
        "frequent_words(\"ACAACTATGCATACTATCGGGAACTATCCT\",3)"
      ],
      "execution_count": null,
      "outputs": [
        {
          "output_type": "execute_result",
          "data": {
            "text/plain": [
              "{'ACT', 'CTA', 'TAT'}"
            ]
          },
          "metadata": {
            "tags": []
          },
          "execution_count": 19
        }
      ]
    },
    {
      "cell_type": "markdown",
      "metadata": {
        "id": "mwNtiuA99mpE",
        "colab_type": "text"
      },
      "source": [
        "You might have noticed that this approcach to solving the problem might not be efficient.\n",
        "\n",
        "So we need to think of another approach.\n",
        "\n",
        "In the above approach :\n",
        "- We need to slide down a window for each k-mer down the entire length.\n",
        "- We will try and do this using only one slide.\n",
        "\n",
        "To do so :\n",
        "- We will order $4^k$ kmers lexicographically.\n",
        "- We will use an array of length $4^k$ ranging from 0 to $4^{k-1}$\n",
        "- The $i^{th}$ element of frequency array stores the frequency of $i^{th}$ kmer.\n",
        "- To do so we will define <b>patterntonumber()</b> and <b>numbertopattern()</b> functions.\n",
        "\n",
        "\n",
        "#### Pattern to Number :\n",
        "\n",
        "- We will give the values {0, 1, 2, 3} to {'A', 'C', 'G', 'T'} respectively.\n",
        "- So, when :\n",
        "    *   k = 1 --> possible kmers = $4^1 = 4$\n",
        "    *   k = 2 --> possible kmers = $4^2 = 16$ ...\n",
        "    *   .. k = n --> possible kmers = $4^n$\n",
        "\n",
        "- Using this, the formula to calculate value of every pattern will be $mul * 4^l$ , where :\n",
        "\n",
        " mul = value of nucleotide as given above, and \n",
        " \n",
        " $l$ = length of pattern or $k-1$\n",
        "\n",
        "- Consider the following examples :\n",
        "<p>\n",
        "<img src=\"https://drive.google.com/uc?export=view&id=1xMMbXuRTsH1dY9qi2Tuf5RJe9GYz5KDt\" alt=\"E4\"/ width = '400px'></p>\n"
      ]
    },
    {
      "cell_type": "code",
      "metadata": {
        "id": "Bvsv1MR1-Grm",
        "colab_type": "code",
        "colab": {}
      },
      "source": [
        "# The code for Pattern to Number goes as follows :\n",
        "def pattern_to_number(pattern):\n",
        "    value = 0\n",
        "    l = len(pattern) - 1\n",
        "    for i in range (0,len(pattern)):\n",
        "        mul = 0\n",
        "        if pattern[i] == 'A':\n",
        "            mul = 0\n",
        "        elif pattern[i] == 'C':\n",
        "            mul = 1\n",
        "        elif pattern[i] == 'G':\n",
        "            mul = 2\n",
        "        elif pattern[i] == 'T':\n",
        "            mul = 3\n",
        "        value = value + mul * (pow(4,l))\n",
        "        l -= 1\n",
        "    return value"
      ],
      "execution_count": 2,
      "outputs": []
    },
    {
      "cell_type": "code",
      "metadata": {
        "id": "1T_m6ualFIRD",
        "colab_type": "code",
        "colab": {
          "base_uri": "https://localhost:8080/",
          "height": 35
        },
        "outputId": "46c795f4-7450-4360-ef9d-4e2e77ceedc6"
      },
      "source": [
        "# We will can this function and check the value of \"AA\"\n",
        "pattern_to_number(\"AA\")"
      ],
      "execution_count": 6,
      "outputs": [
        {
          "output_type": "execute_result",
          "data": {
            "text/plain": [
              "0"
            ]
          },
          "metadata": {
            "tags": []
          },
          "execution_count": 6
        }
      ]
    },
    {
      "cell_type": "code",
      "metadata": {
        "id": "A5X2kImkFKzl",
        "colab_type": "code",
        "colab": {
          "base_uri": "https://localhost:8080/",
          "height": 35
        },
        "outputId": "dfff5139-af55-4a45-8d92-c5e36112d5ec"
      },
      "source": [
        "# We will can this function and check the value of \"GC\"\n",
        "pattern_to_number(\"GC\")"
      ],
      "execution_count": 7,
      "outputs": [
        {
          "output_type": "execute_result",
          "data": {
            "text/plain": [
              "9"
            ]
          },
          "metadata": {
            "tags": []
          },
          "execution_count": 7
        }
      ]
    },
    {
      "cell_type": "code",
      "metadata": {
        "id": "nTBmONh4FXsz",
        "colab_type": "code",
        "colab": {}
      },
      "source": [
        ""
      ],
      "execution_count": null,
      "outputs": []
    }
  ]
}