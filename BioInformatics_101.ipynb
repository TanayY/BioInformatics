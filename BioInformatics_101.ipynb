{
  "nbformat": 4,
  "nbformat_minor": 0,
  "metadata": {
    "colab": {
      "name": "BioInformatics 101",
      "provenance": [],
      "collapsed_sections": [],
      "mount_file_id": "1u-ysnrMy0Vx1Ep2-0DEpWjhh9fMuB1ql",
      "authorship_tag": "ABX9TyM1+Zsd7KJHaedKPlvPhT9Y",
      "include_colab_link": true
    },
    "kernelspec": {
      "name": "python3",
      "display_name": "Python 3"
    }
  },
  "cells": [
    {
      "cell_type": "markdown",
      "metadata": {
        "id": "view-in-github",
        "colab_type": "text"
      },
      "source": [
        "<a href=\"https://colab.research.google.com/github/TanayY/BioInformatics/blob/master/BioInformatics_101.ipynb\" target=\"_parent\"><img src=\"https://colab.research.google.com/assets/colab-badge.svg\" alt=\"Open In Colab\"/></a>"
      ]
    },
    {
      "cell_type": "markdown",
      "metadata": {
        "id": "zAVx6CHYLLFT",
        "colab_type": "text"
      },
      "source": [
        "![alt text](https://drive.google.com/uc?export=view&id=13NPx1bTBIHIGKRjTRqROsTe-qqDR_8R9)\n",
        "\n",
        "\n",
        "\n",
        "\n",
        "\n",
        "\n",
        "\n",
        "\n",
        "\n"
      ]
    },
    {
      "cell_type": "markdown",
      "metadata": {
        "id": "lZWDIfq-Kj7m",
        "colab_type": "text"
      },
      "source": [
        "\n",
        "# **BIOINFORMATICS 101**\n",
        "\n",
        "Welcome to the BioInformatics Notebook.\n",
        "\n",
        "This is a place where I will try to share my knowledge of BioInformatics.\n",
        "\n",
        "\n",
        "Let's start with a basic understanding of the Genome.\n",
        "\n",
        "<br>\n",
        "\n",
        "\n",
        "### What is a Genome?\n",
        "- A Genome is the Genetic Material</i> of an Organism.\n",
        "\n",
        "<br>\n",
        "\n",
        "\n",
        "### What is Genome Replication ?\n",
        "- It is an important task carried out in the cell, which divides the cell into two daughter cells.\n",
        "\n",
        "- This is important because before a cell divides, it must replicate it's Genome, so both of it's daughter cells inherit it's copy.\n",
        "\n",
        "<br>\n",
        "\n",
        "### Conjectured Theory of Replication :\n",
        "- In 1953, Molecular Biologists James Watson and Francis Crick published an academic paper proposing the double helix structure of the DNA molecule.\n",
        "- They conjectured that two strands of parent DNA Molecule unwind during replication.\n",
        "- Then each parent strand acts as a template for synthesis of a new strand.\n",
        "- Replication therefore begins with a pair of complementary strands of DNA and ends up with two pairs of Complementary Strands.\n",
        "<p align=\"center\">\n",
        "<img src=\"https://drive.google.com/uc?export=view&id=1p4MECxiD0lbpygAm23xzXYbDStFhNEFU\" alt=\"NC\" width= 350px/></p>\n",
        "\n",
        "- But things turned out to be more complicated than this.\n",
        "\n",
        "<br>\n",
        "\n",
        "### Replication :\n",
        "- It begins in a Genomic Region called the Replication Origin.\n",
        "- This process is carried out by molecular copy machines called <b>DNA Polymerases</b>.\n",
        "- The Replication Origin is also called <b>ori</b>.\n",
        "\n",
        "<p align=\"center\">\n",
        "<img src=\"https://i.pinimg.com/originals/fa/a5/87/faa587f455a50c122abe58523b9856d0.gif\" alt=\"Drawing\" width= 300px/></p>\n",
        "\n",
        "- Locating the <b>ori</b> is an important task to understand how Cells Replicate and for other BioMedical Purposes.\n",
        "\n",
        "- One example is Gene Therapy.\n",
        "\n",
        "<br>\n",
        "\n",
        "#### Gene Therapy :\n",
        "- Genetically engineered mini-genomes are made called Viral Vectors.\n",
        "- These work similar to real viruses.\n",
        "- The patient is infected with this Viral Vector (which contains an Artificial Gene), which then encodes a theraputic gene to cure the patient of the disease.\n",
        "- To ensure that this Viral Vector Replicates we need to know it's ori.\n",
        "\n",
        "<b>Can we formulate a computational problem given that a genome has a single ori and is represented as a DNA String of Nucleotides {A,C,G,T}?</b>\n",
        "\n",
        "<br>\n",
        "\n",
        "<b>Problem : Finding Origin of Replication </b>\n",
        "\n",
        "    - Input : A DNA String Genome\n",
        "    - Output : The location of ori in Genome"
      ]
    },
    {
      "cell_type": "markdown",
      "metadata": {
        "id": "WHsbnMO00nlw",
        "colab_type": "text"
      },
      "source": [
        "- In most Bacteria, a special genomic region, encodes the Ori and is about a few hundred Neucleotides long.\n",
        "\n",
        "- We will use the Genome of <b>Vibrio Cholerae</b>, whose ori is already being found and see what it tells about this special region.\n",
        "\n",
        "- There is a Hidden Message in the Ori Region, which tells the cell to begin Replication , called <b>DNAA</b>.\n",
        "\n",
        "- It initiates replication and binds to a short segment within ori (known as <b>DNAA Box</b>).\n",
        "\n",
        "<p align = \"center\"><b> Can we find this Hidden Message without knowing anything about it ?</b></p>\n",
        "\n",
        "<br> \n",
        "\n",
        "<b>Problem : Hidden Message Problem</b>\n",
        "\n",
        "    - Input : A String text (representing Replication of Genome)\n",
        "    - Otutput : A Hidden Message in the text.\n",
        "\n",
        "- This does not give us an idea of how the hidden message looks, so we can't solve this problem.\n",
        "\n",
        "- So we will try looking for Frequent Words in the ori, because for several Biological Processes, certain Nucleotide Strings appear Surprisingly often in small regions of the Genome.\n",
        "\n",
        "- This is because certain proteins onlt bind to DNA is a specific string of nucleotides is present. More such strings means high chance of Binding.\n",
        "<p align = \"center\">\n",
        "<img  src=\"https://drive.google.com/uc?export=view&id=1Y5AsFUbdDv5kdh3Nt9SrbFkJ1Fi0FNRh\" alt=\"E1\" width= 350px/></p>\n",
        "\n",
        "- Let's formulate this problem so we can solve it Computationally.\n",
        "\n",
        "1) A string of length k is called a <b>kmer</b>.\n",
        "\n",
        "2) A function <b>count(text,pattern)</b> will count the occurences of <b>pattern</b> in <b>text</b>.\n",
        "\n",
        "<p align = \"center\">\n",
        "<img  src=\"https://drive.google.com/uc?export=view&id=11njuM896LLzUWnZnAgo1C4mO2bkRW66w\" alt=\"E1\" width= 400px/></p>\n",
        "\n",
        "3) <b>Text</b> is the input text.\n",
        "\n",
        "4) <b>|Text|</b> is the number of symbols in Text.\n",
        "\n",
        "5) A function <b>get_text(i,k)</b>, where :\n",
        "- i = starting position\n",
        "- k = length of k-mer\n",
        "\n",
        "<p align = \"center\">\n",
        "<img  src=\"https://drive.google.com/uc?export=view&id=1_jzXQEbIrEkXEWPu8-g2UWOWfoSdBORM\" alt=\"E3\" width= 200px/></p>\n",
        "\n",
        "\n",
        "\n"
      ]
    },
    {
      "cell_type": "markdown",
      "metadata": {
        "id": "DuR8KnNGSFzn",
        "colab_type": "text"
      },
      "source": [
        "<b>Problem : Pattern Count</b>\n",
        "\n",
        "    - Input : Two strings \"text\" and \"pattern\"\n",
        "    - Output : Occurences of \"pattern\" in \"text\""
      ]
    },
    {
      "cell_type": "code",
      "metadata": {
        "id": "PnziNdVTSK7e",
        "colab_type": "code",
        "colab": {}
      },
      "source": [
        "# We Define a function pattern count which is explained as \"count()\" above\n",
        "# The function get_text can be defined using a single line in Python.\n",
        "# It has been marked in the code below\n",
        "def pattern_count(text,pattern):\n",
        "    count  = 0;\n",
        "    l = len(text) - len(pattern)+1;\n",
        "    for i in range(0,l):\n",
        "        s = text[i:i+len(pattern)] # <-- Implementation of get_text(i,k)\n",
        "        if s == pattern:\n",
        "            count += 1\n",
        "    return count"
      ],
      "execution_count": 28,
      "outputs": []
    },
    {
      "cell_type": "code",
      "metadata": {
        "id": "TT-LAARQUH_p",
        "colab_type": "code",
        "colab": {
          "base_uri": "https://localhost:8080/",
          "height": 35
        },
        "outputId": "bf573210-758d-4d0a-b106-32f53652fe28"
      },
      "source": [
        "#We call the function above and send it the inputs \"text\" and \"pattern\"\n",
        "#Feel free to try your own inputs\n",
        "\n",
        "pattern_count(\"CGATATA\", \"ATA\")"
      ],
      "execution_count": 29,
      "outputs": [
        {
          "output_type": "execute_result",
          "data": {
            "text/plain": [
              "2"
            ]
          },
          "metadata": {
            "tags": []
          },
          "execution_count": 29
        }
      ]
    },
    {
      "cell_type": "markdown",
      "metadata": {
        "id": "wOFoZciXYHn0",
        "colab_type": "text"
      },
      "source": [
        "<b>Problem : Frequent Words</b>\n",
        "\n",
        "    - Input : A string \"text\" and an integer \"k\"\n",
        "    - Output : All most frequent \"kmers\" in text"
      ]
    },
    {
      "cell_type": "code",
      "metadata": {
        "id": "YS0xAf88YaNv",
        "colab_type": "code",
        "colab": {}
      },
      "source": [
        "#We define a function frequent_words(), which takes an input string \"text\" and integer \"k\"\n",
        "\n",
        "def frequent_words(text,k):\n",
        "    frequent_patterns = set([]) #This is a set which will store all frequent kmers\n",
        "    count = [] #This is used to store the count of every kmer in the input text\n",
        "    l = len(text) - k + 1 # We traverse only till the (l-k), i.e. just before the last k-mer so we don't go beyond that\n",
        "    for i in range(0,l):\n",
        "        pattern = text[i:i+k] #This is the pattern from i to i+k\n",
        "        count.append(pattern_count(text,pattern)) #We use the pattern_count function to get the frequency of the\n",
        "        #pattern in the complete text\n",
        "    maxcount = max(count) # Stores the maximum count\n",
        "    for i in range(0,len(text)-k):\n",
        "        if count[i] == maxcount:\n",
        "            frequent_patterns.add(text[i:i+k]) # We append all the strings with frequency maxcount\n",
        "    return frequent_patterns"
      ],
      "execution_count": 30,
      "outputs": []
    },
    {
      "cell_type": "code",
      "metadata": {
        "id": "I0RIhlzbbnKq",
        "colab_type": "code",
        "colab": {
          "base_uri": "https://localhost:8080/",
          "height": 35
        },
        "outputId": "e7771079-0466-4177-b3da-f0a1c8b4fc4e"
      },
      "source": [
        "# This will give a complete list of frequent kmers with k = 5\n",
        "frequent_words(\"ACAACTATGCATACTATCGGGAACTATCCT\",5)"
      ],
      "execution_count": 31,
      "outputs": [
        {
          "output_type": "execute_result",
          "data": {
            "text/plain": [
              "{'ACTAT'}"
            ]
          },
          "metadata": {
            "tags": []
          },
          "execution_count": 31
        }
      ]
    },
    {
      "cell_type": "code",
      "metadata": {
        "id": "dcS4GZ9IeIsa",
        "colab_type": "code",
        "colab": {
          "base_uri": "https://localhost:8080/",
          "height": 35
        },
        "outputId": "15464309-185d-46dd-bbbe-21764d00bec4"
      },
      "source": [
        "# This will give a complete list of frequent kmers with k = 3\n",
        "frequent_words(\"ACAACTATGCATACTATCGGGAACTATCCT\",3)"
      ],
      "execution_count": 32,
      "outputs": [
        {
          "output_type": "execute_result",
          "data": {
            "text/plain": [
              "{'ACT', 'CTA', 'TAT'}"
            ]
          },
          "metadata": {
            "tags": []
          },
          "execution_count": 32
        }
      ]
    },
    {
      "cell_type": "markdown",
      "metadata": {
        "id": "mwNtiuA99mpE",
        "colab_type": "text"
      },
      "source": [
        "You might have noticed that this approcach to solving the problem might not be efficient.\n",
        "\n",
        "So we need to think of another approach.\n",
        "\n",
        "In the above approach :\n",
        "- We need to slide down a window for each k-mer down the entire length.\n",
        "- We will try and do this using only one slide.\n",
        "\n",
        "To do so :\n",
        "- We will order $4^k$ kmers lexicographically.\n",
        "- We will use an array of length $4^k$ ranging from 0 to $4^{k-1}$\n",
        "- The $i^{th}$ element of frequency array stores the frequency of $i^{th}$ kmer.\n",
        "- To do so we will define <b>pattern_to_number()</b> and <b>number_to_pattern()</b> functions.\n",
        "\n",
        "\n",
        "#### Pattern to Number :\n",
        "\n",
        "- We will give the values {0, 1, 2, 3} to {'A', 'C', 'G', 'T'} respectively.\n",
        "- So, when :\n",
        "    *   k = 1 --> possible kmers = $4^1 = 4$\n",
        "    *   k = 2 --> possible kmers = $4^2 = 16$ ...\n",
        "    *   .. k = n --> possible kmers = $4^n$\n",
        "\n",
        "- Using this, the formula to calculate value of every pattern will be $mul * 4^l$ , where :\n",
        "\n",
        " mul = value of nucleotide as given above, and \n",
        "\n",
        " $l$ = length of pattern or $k-1$\n",
        "\n",
        "- Consider the following examples :\n",
        "<p>\n",
        "<img src=\"https://drive.google.com/uc?export=view&id=1xMMbXuRTsH1dY9qi2Tuf5RJe9GYz5KDt\" alt=\"E4\"/ height = '450px'></p>\n"
      ]
    },
    {
      "cell_type": "code",
      "metadata": {
        "id": "Bvsv1MR1-Grm",
        "colab_type": "code",
        "colab": {}
      },
      "source": [
        "# The code for Pattern to Number goes as follows :\n",
        "def pattern_to_number(pattern):\n",
        "    value = 0\n",
        "    l = len(pattern) - 1\n",
        "    for i in range (0,len(pattern)):\n",
        "        mul = 0\n",
        "        if pattern[i] == 'A': # First we choose the value of the nucleotide and store it in mul \n",
        "            mul = 0\n",
        "        elif pattern[i] == 'C':\n",
        "            mul = 1\n",
        "        elif pattern[i] == 'G':\n",
        "            mul = 2\n",
        "        elif pattern[i] == 'T':\n",
        "            mul = 3\n",
        "        value = value + mul * (pow(4,l)) # We use the equation given above to get the value of the kmer\n",
        "        l -= 1\n",
        "    return value"
      ],
      "execution_count": 33,
      "outputs": []
    },
    {
      "cell_type": "code",
      "metadata": {
        "id": "1T_m6ualFIRD",
        "colab_type": "code",
        "colab": {
          "base_uri": "https://localhost:8080/",
          "height": 35
        },
        "outputId": "a8534e13-f418-4fb0-bf67-1240f3b6947a"
      },
      "source": [
        "# We will call this function and check the value of \"AA\"\n",
        "pattern_to_number(\"AA\")"
      ],
      "execution_count": 34,
      "outputs": [
        {
          "output_type": "execute_result",
          "data": {
            "text/plain": [
              "0"
            ]
          },
          "metadata": {
            "tags": []
          },
          "execution_count": 34
        }
      ]
    },
    {
      "cell_type": "code",
      "metadata": {
        "id": "A5X2kImkFKzl",
        "colab_type": "code",
        "colab": {
          "base_uri": "https://localhost:8080/",
          "height": 35
        },
        "outputId": "eb69a1e4-da6d-43eb-cec2-9f1f7c230827"
      },
      "source": [
        "# We will call this function and check the value of \"GC\"\n",
        "pattern_to_number(\"GC\")"
      ],
      "execution_count": 35,
      "outputs": [
        {
          "output_type": "execute_result",
          "data": {
            "text/plain": [
              "9"
            ]
          },
          "metadata": {
            "tags": []
          },
          "execution_count": 35
        }
      ]
    },
    {
      "cell_type": "markdown",
      "metadata": {
        "id": "cbA_8WBmGQLo",
        "colab_type": "text"
      },
      "source": [
        "#### Number to Pattern :\n",
        "\n",
        "- We know that {'A', 'C', 'G', 'T'} have values {0,1,2,3};\n",
        "- So we take 0 based array and store the nucleotides in them.\n",
        "- The funcion has inputs as the number $(n)$ which represents the kmer and $(k)$.\n",
        "- We start by taking the modulus of $n$ and accessing the nucleotide array using that value.\n",
        "- We add that Nucleotide to out final answer.\n",
        "- We simultaneoulsy decrease the value of $k$ and continue the process till $k$ does not become $0$.\n",
        "- Let's take the following example : \n",
        "<p>\n",
        "<img src=\"https://drive.google.com/uc?export=view&id=1SVX7QZiNyiivDoBcG9_sJzgjlJ0OEwNj\" alt=\"E5\"/ height = '500px'></p>\n"
      ]
    },
    {
      "cell_type": "code",
      "metadata": {
        "id": "nTBmONh4FXsz",
        "colab_type": "code",
        "colab": {}
      },
      "source": [
        "#The code for number to pattern goes as follows :\n",
        "def number_to_pattern(n,k):\n",
        "    nucleotide  = [\"A\", \"C\", \"G\", \"T\"]\n",
        "    kmer = \"\"\n",
        "    while k!=0: #We use the above given method to acheive our answer\n",
        "        value = int(n % 4)\n",
        "        kmer += nucleotide[value]\n",
        "        n /= 4\n",
        "        k -= 1\n",
        "    return (kmer[::-1]) # We return the string after reversing it"
      ],
      "execution_count": 36,
      "outputs": []
    },
    {
      "cell_type": "code",
      "metadata": {
        "id": "AZNKY7mrVvl_",
        "colab_type": "code",
        "colab": {
          "base_uri": "https://localhost:8080/",
          "height": 36
        },
        "outputId": "429e9385-1268-4a60-ece2-fa8dabf68b61"
      },
      "source": [
        "number_to_pattern(11,2)"
      ],
      "execution_count": 37,
      "outputs": [
        {
          "output_type": "execute_result",
          "data": {
            "application/vnd.google.colaboratory.intrinsic+json": {
              "type": "string"
            },
            "text/plain": [
              "'GT'"
            ]
          },
          "metadata": {
            "tags": []
          },
          "execution_count": 37
        }
      ]
    },
    {
      "cell_type": "markdown",
      "metadata": {
        "id": "w5snKtpTIC9T",
        "colab_type": "text"
      },
      "source": [
        "- We will now define a function that will take a \"genome\" and \"length of kmer $(k)$\" as an input and return an array of length $4^k$ consisting of frequencies of the particular kmer in the whole text.\n",
        "\n",
        "- We will call this function *computing_frequencies()*\n",
        "\n",
        "- Consider the following example :\n",
        "<p align = \"center\">\n",
        "<img src=\"https://drive.google.com/uc?export=view&id=1VPEeZ0MeyeIfRADvnAZp_T69kOYQC1Ba\" alt=\"E5\" height = \"80%\", width = \"80%\"/></p>\n"
      ]
    },
    {
      "cell_type": "code",
      "metadata": {
        "id": "gsg1mKLLWNqC",
        "colab_type": "code",
        "colab": {}
      },
      "source": [
        "#Let's code it :\n",
        "# We will call the function as Compute_Frequencies in the code :\n",
        "\n",
        "def Compute_frequencies(genome, k):\n",
        "    l = pow(4,k)\n",
        "    freq_array = []\n",
        "    for i in range (0,l):\n",
        "        freq_array.append(0) # Initialize all frequencies to 0\n",
        "    l2 = len(genome) - k + 1\n",
        "    for i in range (0,l2):\n",
        "        pattern = genome[i:i+k] #Extract kmer from ith position\n",
        "        index = pattern_to_number(pattern) #Convert the kmer to its index using pattern_to_number()\n",
        "        freq_array[index] += 1 #We increase the frequecny of that kmer\n",
        "    return freq_array"
      ],
      "execution_count": 38,
      "outputs": []
    },
    {
      "cell_type": "code",
      "metadata": {
        "id": "wWNbQUbTGFXM",
        "colab_type": "code",
        "colab": {
          "base_uri": "https://localhost:8080/",
          "height": 35
        },
        "outputId": "7835f495-cc36-43ff-8186-b8537b986804"
      },
      "source": [
        "#We will try the above example with this code\n",
        "#We find that it works \n",
        "#Ans is more efficient than the frequent_words() program\n",
        "#Feel free to try your own inputs :\n",
        "\n",
        "Compute_frequencies(\"AAGCAAAGGTGGG\", 2)"
      ],
      "execution_count": 39,
      "outputs": [
        {
          "output_type": "execute_result",
          "data": {
            "text/plain": [
              "[3, 0, 2, 0, 1, 0, 0, 0, 0, 1, 3, 1, 0, 0, 1, 0]"
            ]
          },
          "metadata": {
            "tags": []
          },
          "execution_count": 39
        }
      ]
    },
    {
      "cell_type": "code",
      "metadata": {
        "id": "iwNBEbw5HeY_",
        "colab_type": "code",
        "colab": {
          "base_uri": "https://localhost:8080/",
          "height": 35
        },
        "outputId": "57e14a11-dc56-4f50-84c8-aa10f4e10a3e"
      },
      "source": [
        "# Let's do a time comparison\n",
        "\n",
        "import time\n",
        "start  = time.time()\n",
        "frequent_words(\"ACAACTATGCATACTATCGGGAACTATCCTACAACTATGCATACTATCGGGAACTATCCTACAACTATGCATACTATCGGGAACTATCCTACAACTATGCATACTATCGGGAACTATCCTACAACTATGCATACTATCGGGAACTATCCTACAACTATGCATACTATCGGGAACTATCCTACAACTATGCATACTATCGGGAACTATCCTACAACTATGCATACTATCGGGAACTATCCTACAACTATGCATACTATCGGGAACTATCCTACAACTATGCATACTATCGGGAACTATCCTACAACTATGCATACTATCGGGAACTATCCTACAACTATGCATACTATCGGGAACTATCCTACAACTATGCATACTATCGGGAACTATCCTACAACTATGCATACTATCGGGAACTATCCTACAACTATGCATACTATCGGGAACTATCCTACAACTATGCATACTATCGGGAACTATCCTACAACTATGCATACTATCGGGAACTATCCTACAACTATGCATACTATCGGGAACTATCCT\",5)\n",
        "end = time.time()\n",
        "print(end-start)\n"
      ],
      "execution_count": 40,
      "outputs": [
        {
          "output_type": "stream",
          "text": [
            "0.05187273025512695\n"
          ],
          "name": "stdout"
        }
      ]
    },
    {
      "cell_type": "code",
      "metadata": {
        "id": "ruBeFg6FPmYi",
        "colab_type": "code",
        "colab": {
          "base_uri": "https://localhost:8080/",
          "height": 35
        },
        "outputId": "ae7921ee-c5b1-403e-f3d7-dbeba84a34d1"
      },
      "source": [
        "start  = time.time()\n",
        "Compute_frequencies(\"ACAACTATGCATACTATCGGGAACTATCCTACAACTATGCATACTATCGGGAACTATCCTACAACTATGCATACTATCGGGAACTATCCTACAACTATGCATACTATCGGGAACTATCCTACAACTATGCATACTATCGGGAACTATCCTACAACTATGCATACTATCGGGAACTATCCTACAACTATGCATACTATCGGGAACTATCCTACAACTATGCATACTATCGGGAACTATCCTACAACTATGCATACTATCGGGAACTATCCTACAACTATGCATACTATCGGGAACTATCCTACAACTATGCATACTATCGGGAACTATCCTACAACTATGCATACTATCGGGAACTATCCTACAACTATGCATACTATCGGGAACTATCCTACAACTATGCATACTATCGGGAACTATCCTACAACTATGCATACTATCGGGAACTATCCTACAACTATGCATACTATCGGGAACTATCCTACAACTATGCATACTATCGGGAACTATCCTACAACTATGCATACTATCGGGAACTATCCT\",5)\n",
        "end = time.time()\n",
        "print(end-start)\n",
        "\n",
        "#Here we can observe the amount of time difference in execution of both the approaches"
      ],
      "execution_count": 41,
      "outputs": [
        {
          "output_type": "stream",
          "text": [
            "0.0018465518951416016\n"
          ],
          "name": "stdout"
        }
      ]
    },
    {
      "cell_type": "markdown",
      "metadata": {
        "id": "J-MasDEAjnT0",
        "colab_type": "text"
      },
      "source": [
        "### Vibrio Cholerae\n",
        "\n",
        "<p align = \"center\">\n",
        "<img src=\"https://upload.wikimedia.org/wikipedia/commons/9/9d/Cholera_bacteria_SEM.jpg\" alt=\"E5\" height = \"20%\", width = \"20%\"/></p>\n",
        "\n",
        "- The 9-mer **ATGATCAAG** appears three times in the ori of Vibrio Cholerae.\n",
        "\n",
        "- Experiments show that DNAA boxes are usally nine nucleotides long.\n",
        "\n",
        "- Also, the probability of a 9-mer existing in a string of length 500 is approximately 1/1300.\n",
        "\n",
        "- Four different 9 mers are repaeated in the ori of Vibrio Colerae :\n",
        "    1.   <b>ATGATCAAG</b>\n",
        "    2.   <b>CTTGATCAT</b>\n",
        "    3.   <b>TCTTGATCA</b>\n",
        "    4.   <b>CTCTTGATC</b>\n",
        "\n",
        "- Now how do we know which among these starts replication ?\n",
        "\n",
        "- Having one strand and a bunch of nucleotides, synthesis of a complementary strand can be done on a template strand.\n",
        "\n",
        "<p align = \"center\">\n",
        "<img src=\"https://drive.google.com/uc?export=view&id=1pzs_WqqagppCWqHGtg_Cb--7XE6Eg1ne\" alt=\"E5\" height = \"60%\", width = \"60%\"/></p>\n",
        "\n",
        "\n",
        "- In Vibrio Cholerae, the strands **ATGATCAAG** and **CTTGATCAT** are reverse complements of each other.\n",
        "\n",
        "- Let's write a code for Reverse Complementing a DNA Strand."
      ]
    },
    {
      "cell_type": "code",
      "metadata": {
        "id": "6APuODMNPqxJ",
        "colab_type": "code",
        "colab": {}
      },
      "source": [
        "# We wall call the function reverse_complement(dna)\n",
        "def reverse_complement(dna):\n",
        "    s = \"\"\n",
        "    for i in range(0,len(dna)):\n",
        "        if dna[i] == 'A': s += 'T'\n",
        "        elif dna[i] == 'T': s += 'A';\n",
        "        elif dna[i] == 'G': s += 'C';\n",
        "        elif dna[i] == 'C': s += 'G';\n",
        "    return (s[::-1])"
      ],
      "execution_count": 42,
      "outputs": []
    },
    {
      "cell_type": "code",
      "metadata": {
        "id": "_MVx-_rr2luh",
        "colab_type": "code",
        "colab": {
          "base_uri": "https://localhost:8080/",
          "height": 36
        },
        "outputId": "ae7b392b-7578-4f2e-e104-dbb3cef2ed9d"
      },
      "source": [
        "#So for an example let's take the most frequent strand in ori of Vibrio Cholerae\n",
        "\n",
        "reverse_complement(\"ATGATCAAG\")"
      ],
      "execution_count": 43,
      "outputs": [
        {
          "output_type": "execute_result",
          "data": {
            "application/vnd.google.colaboratory.intrinsic+json": {
              "type": "string"
            },
            "text/plain": [
              "'CTTGATCAT'"
            ]
          },
          "metadata": {
            "tags": []
          },
          "execution_count": 43
        }
      ]
    },
    {
      "cell_type": "markdown",
      "metadata": {
        "id": "u2abExUS4f8A",
        "colab_type": "text"
      },
      "source": [
        "- This states that these two are DNAA boxes in Vibrio Cholerae.\n",
        "\n",
        "- But before concluding we should check short regions in the Genome of Vibrio Cholerae for the two occurences.\n",
        "\n",
        "#### Pattern Matching Problem :\n",
        "    - Input : String Pattern and Genome\n",
        "    - Output : All starting positions in the Genome where the pattern appears as a substring"
      ]
    },
    {
      "cell_type": "code",
      "metadata": {
        "id": "gqPZy3qu4hi8",
        "colab_type": "code",
        "colab": {}
      },
      "source": [
        "def pattern_matching(pattern, genome):\n",
        "    ans = []\n",
        "    l = len(genome) - len(pattern)\n",
        "    l2 = len(pattern) \n",
        "    for i in range (0,l):\n",
        "        s = genome[i:i+l2]\n",
        "        if s == pattern:\n",
        "            ans.append(i)\n",
        "    return ans"
      ],
      "execution_count": 2,
      "outputs": []
    },
    {
      "cell_type": "markdown",
      "metadata": {
        "id": "xcz_yL8zXW-4",
        "colab_type": "text"
      },
      "source": [
        "- Let's try this code on the Vibro Cholerae Genome\n",
        "\n",
        "- Download the Vibrio Cholerae Genome from [here](https://drive.google.com/file/d/1QiIICvcH0saKoeo7PwB19ag9LUrKs2Nl/view?usp=sharing)\n",
        "\n",
        "- Upload it on your Google Drive and [mount](https://drive.google.com/file/d/1jEaSeIy2PYTxAUN3GldoSljMUtWi8Jov/view?usp=sharing) your Google Drive\n",
        "\n",
        "- Put the Path to your file in the code below and run it"
      ]
    },
    {
      "cell_type": "code",
      "metadata": {
        "id": "8HKKPrmE5px6",
        "colab_type": "code",
        "colab": {}
      },
      "source": [
        "file = open(\"/content/drive/My Drive/BioInformatics/Vibrio_cholerae.txt\",\"r+\")\n",
        "genome = file.read()\n",
        "ans = pattern_matching(\"ATGATCAAG\",genome)"
      ],
      "execution_count": 63,
      "outputs": []
    },
    {
      "cell_type": "code",
      "metadata": {
        "id": "WnzshHlV7cnl",
        "colab_type": "code",
        "colab": {
          "base_uri": "https://localhost:8080/",
          "height": 326
        },
        "outputId": "82a7e99b-a30a-4ab2-ab31-1cd7e783e1dd"
      },
      "source": [
        "#Following are the starting positions of the string \"ATGATCAAG\" in the genome of Vibrio Cholerae\n",
        "ans"
      ],
      "execution_count": 64,
      "outputs": [
        {
          "output_type": "execute_result",
          "data": {
            "text/plain": [
              "[116556,\n",
              " 149355,\n",
              " 151913,\n",
              " 152013,\n",
              " 152394,\n",
              " 186189,\n",
              " 194276,\n",
              " 200076,\n",
              " 224527,\n",
              " 307692,\n",
              " 479770,\n",
              " 610980,\n",
              " 653338,\n",
              " 679985,\n",
              " 768828,\n",
              " 878903,\n",
              " 985368]"
            ]
          },
          "metadata": {
            "tags": []
          },
          "execution_count": 64
        }
      ]
    },
    {
      "cell_type": "code",
      "metadata": {
        "id": "fjbrmrqM9Dtn",
        "colab_type": "code",
        "colab": {
          "base_uri": "https://localhost:8080/",
          "height": 35
        },
        "outputId": "e6bf0599-39f4-4c04-c802-0e690a8a628c"
      },
      "source": [
        "#The total number of occurences of \"ATGATCAAG\" are 17\n",
        "len(ans)"
      ],
      "execution_count": 65,
      "outputs": [
        {
          "output_type": "execute_result",
          "data": {
            "text/plain": [
              "17"
            ]
          },
          "metadata": {
            "tags": []
          },
          "execution_count": 65
        }
      ]
    },
    {
      "cell_type": "code",
      "metadata": {
        "id": "cuBGEe1K-imm",
        "colab_type": "code",
        "colab": {}
      },
      "source": [
        ""
      ],
      "execution_count": 68,
      "outputs": []
    },
    {
      "cell_type": "code",
      "metadata": {
        "id": "eNbSmdvfbTF-",
        "colab_type": "code",
        "colab": {}
      },
      "source": [
        ""
      ],
      "execution_count": null,
      "outputs": []
    }
  ]
}